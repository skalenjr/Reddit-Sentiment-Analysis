{
 "cells": [
  {
   "cell_type": "markdown",
   "metadata": {},
   "source": [
    "# **Sentiment Analysis on Reddit**"
   ]
  },
  {
   "cell_type": "code",
   "execution_count": 25,
   "metadata": {},
   "outputs": [
    {
     "name": "stdout",
     "output_type": "stream",
     "text": [
      "Thread - 30\n",
      "Questions - 38\n",
      "Questions - 47\n",
      "Questions - 29\n",
      "Questions - 29\n",
      "Questions - 30\n",
      "and - 57\n",
      "Questions - 27\n",
      "Basic - 33\n",
      "and - 24\n",
      "Questions - 36\n",
      "Thread - 43\n",
      "Basic - 33\n",
      "Questions - 35\n",
      "Questions - 32\n",
      "Questions - 40\n",
      "Questions - 32\n",
      "and - 40\n",
      "Questions - 25\n",
      "Questions - 33\n",
      "Questions - 36\n",
      "Basic - 40\n",
      "Basic - 40\n",
      "Questions - 44\n",
      "Basic - 35\n",
      "and - 30\n",
      "and - 24\n",
      "Questions - 29\n",
      "Questions - 32\n",
      "Thread - 30\n",
      "Questions - 32\n",
      "and - 50\n",
      "Thread - 38\n",
      "Questions - 40\n",
      "and - 18\n",
      "and - 33\n",
      "and - 100\n",
      "and - Tech Support and Basic Questions Thread - July 11, 2022\n"
     ]
    }
   ],
   "source": [
    "import praw\n",
    "import pandas as pd\n",
    "import numpy as np\n",
    "import nltk\n",
    "from fuzzywuzzy import process, fuzz\n",
    "from difflib import SequenceMatcher\n",
    "\n",
    "import bot1\n",
    "\n",
    "def get_topic(post_text, topic_list):\n",
    "    topic = ''\n",
    "    for t in topic_list:\n",
    "        t = str(t)\n",
    "        #print(t)\n",
    "        t_split = t.split()\n",
    "        topic_len = len(t_split)\n",
    "        post_list = post_text.split()\n",
    "        ngrams = ngrams(post_list, topic_len)\n",
    "        for grams in ngrams:\n",
    "            r = SequenceMatcher(None, t_split, grams).ratio()\n",
    "            #use this: 'https://stackoverflow.com/a/68769155/17302732'\n",
    "    return topic\n",
    "\n",
    "def score_comments(url):\n",
    "    pass\n",
    "\n",
    "reddit = praw.Reddit(client_id=bot1.app_id, client_secret=bot1.app_secret, user_agent=bot1.app_ua)\n",
    "sub = 'pcgaming'\n",
    "topic_file = 'game_list.csv'\n",
    "subreddit = reddit.subreddit(sub)\n",
    "topic_df = pd.read_csv(topic_file)\n",
    "topic_list = topic_df['Name'].unique().tolist()\n",
    "num_posts = 1\n",
    "\n",
    "for post in subreddit.hot(limit=num_posts):\n",
    "    url = 'reddit.com/r/' + sub + '/comments/' + post.id\n",
    "    title = post.title\n",
    "    topic = get_topic(title, topic_list)\n",
    "    if topic != '':\n",
    "        print(topic + ' - ' + title)\n",
    "        score_comments(url)"
   ]
  }
 ],
 "metadata": {
  "kernelspec": {
   "display_name": "Python 3.9.7 64-bit",
   "language": "python",
   "name": "python3"
  },
  "language_info": {
   "codemirror_mode": {
    "name": "ipython",
    "version": 3
   },
   "file_extension": ".py",
   "mimetype": "text/x-python",
   "name": "python",
   "nbconvert_exporter": "python",
   "pygments_lexer": "ipython3",
   "version": "3.9.7"
  },
  "orig_nbformat": 4,
  "vscode": {
   "interpreter": {
    "hash": "b26757ebb5997c551b97093c74f25d44a4ba2b2fa04ffbd32b5a92b3386b632f"
   }
  }
 },
 "nbformat": 4,
 "nbformat_minor": 2
}
