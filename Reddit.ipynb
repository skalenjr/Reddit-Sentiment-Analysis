{
 "cells": [
  {
   "cell_type": "markdown",
   "metadata": {},
   "source": [
    "# **Sentiment Analysis on Reddit**"
   ]
  },
  {
   "cell_type": "code",
   "execution_count": 1,
   "metadata": {},
   "outputs": [
    {
     "name": "stdout",
     "output_type": "stream",
     "text": [
      "reddit.com/r/pcgaming/comments/vkw2bb\n",
      "reddit.com/r/pcgaming/comments/vmdw2l\n",
      "reddit.com/r/pcgaming/comments/vmky7u\n",
      "reddit.com/r/pcgaming/comments/vmmwrp\n",
      "reddit.com/r/pcgaming/comments/vmms5j\n"
     ]
    }
   ],
   "source": [
    "import praw\n",
    "import pandas as pd\n",
    "import nltk\n",
    "import fuzzywuzzy as fuzz\n",
    "\n",
    "import bot1\n",
    "\n",
    "reddit = praw.Reddit(client_id=bot1.app_id, client_secret=bot1.app_secret, user_agent=bot1.app_ua)\n",
    "sub = 'pcgaming'\n",
    "subreddit = reddit.subreddit(sub)\n",
    "topic_list = []\n",
    "num_posts = 5\n",
    "\n",
    "def get_topic(topic_list):\n",
    "    topic = ''\n",
    "\n",
    "    return topic\n",
    "\n",
    "def score_comments(url):\n",
    "    pass\n",
    "\n",
    "for post in subreddit.hot(limit=num_posts):\n",
    "    url = 'reddit.com/r/' + sub + '/comments/' + post.id\n",
    "    print(url)\n",
    "    score_comments(url)\n",
    "\n"
   ]
  }
 ],
 "metadata": {
  "kernelspec": {
   "display_name": "Python 3.9.7 64-bit",
   "language": "python",
   "name": "python3"
  },
  "language_info": {
   "codemirror_mode": {
    "name": "ipython",
    "version": 3
   },
   "file_extension": ".py",
   "mimetype": "text/x-python",
   "name": "python",
   "nbconvert_exporter": "python",
   "pygments_lexer": "ipython3",
   "version": "3.9.7"
  },
  "orig_nbformat": 4,
  "vscode": {
   "interpreter": {
    "hash": "b26757ebb5997c551b97093c74f25d44a4ba2b2fa04ffbd32b5a92b3386b632f"
   }
  }
 },
 "nbformat": 4,
 "nbformat_minor": 2
}
