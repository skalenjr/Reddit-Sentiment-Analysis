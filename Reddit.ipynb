{
 "cells": [
  {
   "cell_type": "markdown",
   "metadata": {},
   "source": [
    "# **Sentiment Analysis on Reddit**"
   ]
  },
  {
   "cell_type": "code",
   "execution_count": 26,
   "metadata": {},
   "outputs": [
    {
     "name": "stdout",
     "output_type": "stream",
     "text": [
      "guild wars 2 - Guild Wars 2 Summer Roadmap and July 19 Update Preview\n"
     ]
    }
   ],
   "source": [
    "import praw\n",
    "import pandas as pd\n",
    "import numpy as np\n",
    "import nltk\n",
    "from fuzzywuzzy import process, fuzz\n",
    "from difflib import SequenceMatcher\n",
    "import statistics\n",
    "\n",
    "import bot1\n",
    "\n",
    "def get_topic(post_text, topic_df):\n",
    "    topic = ''\n",
    "    for t in topic_df['Name']:\n",
    "        t = str(t)\n",
    "        t_split = t.split()\n",
    "        topic_len = len(t_split)\n",
    "        post_list = post_text.split()\n",
    "        ngram = nltk.ngrams(post_list, topic_len)\n",
    "        for grams in ngram:\n",
    "            r_list = [0] * len(grams)\n",
    "            for i, word in enumerate(t_split):\n",
    "                r_list[i] = fuzz.ratio(word, post_list[i])\n",
    "            if statistics.mean(r_list) >= 80:\n",
    "                return ' '.join(t_split)\n",
    "    return topic\n",
    "\n",
    "def score_comments(url):\n",
    "    pass\n",
    "\n",
    "reddit = praw.Reddit(client_id=bot1.app_id, client_secret=bot1.app_secret, user_agent=bot1.app_ua)\n",
    "sub = 'pcgaming'\n",
    "topic_file = 'game_list.csv'\n",
    "subreddit = reddit.subreddit(sub)\n",
    "topic_df = pd.read_csv(topic_file)\n",
    "num_posts = 30\n",
    "\n",
    "for post in subreddit.hot(limit=num_posts):\n",
    "    url = 'reddit.com/r/' + sub + '/comments/' + post.id\n",
    "    title = post.title\n",
    "    topic = get_topic(title, topic_df)\n",
    "    if topic != '':\n",
    "        print(topic + ' - ' + title)\n",
    "        score_comments(url)"
   ]
  }
 ],
 "metadata": {
  "kernelspec": {
   "display_name": "Python 3.9.7 64-bit",
   "language": "python",
   "name": "python3"
  },
  "language_info": {
   "codemirror_mode": {
    "name": "ipython",
    "version": 3
   },
   "file_extension": ".py",
   "mimetype": "text/x-python",
   "name": "python",
   "nbconvert_exporter": "python",
   "pygments_lexer": "ipython3",
   "version": "3.9.7"
  },
  "orig_nbformat": 4,
  "vscode": {
   "interpreter": {
    "hash": "b26757ebb5997c551b97093c74f25d44a4ba2b2fa04ffbd32b5a92b3386b632f"
   }
  }
 },
 "nbformat": 4,
 "nbformat_minor": 2
}
