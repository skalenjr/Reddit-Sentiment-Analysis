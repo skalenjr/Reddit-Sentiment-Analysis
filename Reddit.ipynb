{
 "cells": [
  {
   "cell_type": "markdown",
   "metadata": {},
   "source": [
    "# **Sentiment Analysis on Reddit**"
   ]
  },
  {
   "cell_type": "code",
   "execution_count": 6,
   "metadata": {},
   "outputs": [
    {
     "name": "stdout",
     "output_type": "stream",
     "text": [
      "Saints Row - Embracer stock price falls following Saints Row reviews\n",
      "Destiny 2 - Bungie will no longer sunset any Destiny 2 expansions in the future\n",
      "Guild Wars 2 - Guild Wars 2 has released on Steam\n",
      "Dune - Dune Awakening Steam page\n",
      "Mount & Blade II: Bannerlord - Mount & Blade II: Bannerlord - Release Date Announcement Trailer (October 25, 2022)\n",
      "Stardew Valley - Stardew Valley creator teases boss fight, music for upcoming project Haunted Chocolatier\n",
      "Warhammer 40,000: Darktide - Warhammer 40,000: Darktide - Gamescom 2022 Trailer\n",
      "High on Life - High on Life Steam page is up\n",
      "Midnight Fight Express - Midnight Fight Express has released on Steam (Also available on PC Game Pass)\n",
      "Age of Empires - Age of Empires IV: Ottomans and Malians World Premiere Trailer | gamescom Opening Night LIVE 2022\n",
      "Saints Row - Saints Row is terrible (SkillUp)\n",
      "Return to Monkey Island - Return to Monkey Island | Coming September 19\n"
     ]
    }
   ],
   "source": [
    "import praw\n",
    "import pandas as pd\n",
    "import numpy as np\n",
    "import nltk\n",
    "from fuzzywuzzy import process, fuzz\n",
    "from difflib import SequenceMatcher\n",
    "import statistics\n",
    "\n",
    "import bot1\n",
    "\n",
    "def get_topic(post_text, topic_df):\n",
    "    topic = ''\n",
    "    for t in topic_df['Topic']:\n",
    "        t = str(t)\n",
    "        t_split = t.split()\n",
    "        topic_len = len(t_split)\n",
    "        post_list = post_text.split()\n",
    "        ngram = nltk.ngrams(post_list, topic_len)\n",
    "        for grams in ngram:\n",
    "            r_list = [0] * len(grams)\n",
    "            for i, word in enumerate(t_split):\n",
    "                r_list[i] = fuzz.ratio(word, grams[i])\n",
    "            if statistics.mean(r_list) >= 90:\n",
    "                return ' '.join(t_split)\n",
    "    return topic\n",
    "\n",
    "def get_topic_exact(post_text, topic_df):\n",
    "    topic = ''\n",
    "    for t in topic_df['Topic']:\n",
    "        t = str(t)\n",
    "        t_split = t.split()\n",
    "        topic_len = len(t_split)\n",
    "        post_list = post_text.split()\n",
    "        ngram = nltk.ngrams(post_list, topic_len)\n",
    "        for grams in ngram:\n",
    "            if list(grams) == t_split:\n",
    "                return ' '.join(t_split)\n",
    "    return topic\n",
    "\n",
    "def score_comments(url):\n",
    "    positive = 0\n",
    "    negative = 0\n",
    "    #for each comment\n",
    "        #if pos: ++positive\n",
    "        #if negative: ++negative\n",
    "\n",
    "reddit = praw.Reddit(client_id=bot1.app_id, client_secret=bot1.app_secret, user_agent=bot1.app_ua)\n",
    "sub = 'pcgaming'\n",
    "topic_file = 'topic_list.csv'\n",
    "subreddit = reddit.subreddit(sub)\n",
    "topic_df = pd.read_csv(topic_file)\n",
    "num_posts = 40\n",
    "\n",
    "for post in subreddit.hot(limit=num_posts):\n",
    "    url = 'reddit.com/r/' + sub + '/comments/' + post.id\n",
    "    title = post.title\n",
    "    #topic = get_topic(title, topic_df)\n",
    "    topic = get_topic_exact(title, topic_df)\n",
    "    if topic != '':\n",
    "        print(topic + ' - ' + title)\n",
    "        score_comments(url)"
   ]
  }
 ],
 "metadata": {
  "kernelspec": {
   "display_name": "Python 3.10.6 64-bit",
   "language": "python",
   "name": "python3"
  },
  "language_info": {
   "codemirror_mode": {
    "name": "ipython",
    "version": 3
   },
   "file_extension": ".py",
   "mimetype": "text/x-python",
   "name": "python",
   "nbconvert_exporter": "python",
   "pygments_lexer": "ipython3",
   "version": "3.10.6"
  },
  "orig_nbformat": 4,
  "vscode": {
   "interpreter": {
    "hash": "7f3f82003cc0ccb780dfb68465a2859b8753c3cce133cefccb0357f6f67295b2"
   }
  }
 },
 "nbformat": 4,
 "nbformat_minor": 2
}
