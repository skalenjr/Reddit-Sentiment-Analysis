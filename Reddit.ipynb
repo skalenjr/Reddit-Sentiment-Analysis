{
 "cells": [
  {
   "cell_type": "markdown",
   "metadata": {},
   "source": [
    "# **Sentiment Analysis on Reddit**"
   ]
  },
  {
   "cell_type": "code",
   "execution_count": 9,
   "metadata": {},
   "outputs": [
    {
     "name": "stdout",
     "output_type": "stream",
     "text": [
      "0            The 4th Coming\n",
      "1         AdventureQuest 3D\n",
      "2     AdventureQuest Worlds\n",
      "3              Age of Conan\n",
      "4              Age of Wulin\n",
      "              ...          \n",
      "25               Zup! Arena\n",
      "26                   Zup! X\n",
      "27                Zup! Zero\n",
      "28              Zup! Zero 2\n",
      "29                      ZZT\n",
      "Name: Name, Length: 1273, dtype: object\n"
     ]
    }
   ],
   "source": [
    "import praw\n",
    "import pandas as pd\n",
    "import numpy as np\n",
    "import nltk\n",
    "import fuzzywuzzy as fuzz\n",
    "import requests\n",
    "from bs4 import BeautifulSoup\n",
    "\n",
    "import bot1\n",
    "\n",
    "reddit = praw.Reddit(client_id=bot1.app_id, client_secret=bot1.app_secret, user_agent=bot1.app_ua)\n",
    "sub = 'pcgaming'\n",
    "subreddit = reddit.subreddit(sub)\n",
    "topic_list = []\n",
    "num_posts = 5\n",
    "\n",
    "def get_topic(topic_list):\n",
    "    topic = ''\n",
    "\n",
    "    return topic\n",
    "\n",
    "def score_comments(url):\n",
    "    pass\n",
    "\n",
    "for post in subreddit.hot(limit=num_posts):\n",
    "    url = 'reddit.com/r/' + sub + '/comments/' + post.id\n",
    "    score_comments(url)\n",
    "\n",
    "def read_wiki_table(url):\n",
    "    response = requests.get(url)\n",
    "    soup = BeautifulSoup(response.text, 'html.parser')\n",
    "    table = soup.find('table',{'class':\"wikitable sortable\"})\n",
    "    df = pd.read_html(str(table))\n",
    "    df = pd.DataFrame(df[0])\n",
    "    if 'Name' not in df:\n",
    "        if 'Title' in df:\n",
    "            df.rename(columns={'Title': 'Name'})\n",
    "        elif 'Game' in df:\n",
    "            df.rename(columns={'Game': 'Name'})\n",
    "    return df\n",
    "\n",
    "def get_games():\n",
    "    site_list = [\n",
    "        'https://en.wikipedia.org/wiki/List_of_massively_multiplayer_online_role-playing_games',\n",
    "        'https://en.wikipedia.org/wiki/List_of_PC_games_(Numerical)',\n",
    "        'https://en.wikipedia.org/wiki/List_of_most-played_video_games_by_player_count',\n",
    "        'https://en.wikipedia.org/wiki/List_of_best-selling_PC_games'\n",
    "    ]\n",
    "    games = pd.DataFrame()\n",
    "    from string import ascii_uppercase\n",
    "    for url in site_list:\n",
    "        games = pd.concat([games, read_wiki_table(url)])\n",
    "    for c in ascii_uppercase:\n",
    "        wikiurl = \"https://en.wikipedia.org/wiki/List_of_PC_games_(\" + c + \")\"\n",
    "        games = pd.concat([games, read_wiki_table(wikiurl)])\n",
    "    \n",
    "    games['Name'].fillna(games['Title'], inplace=True)\n",
    "    games.drop(['Title'], axis=1, inplace=True)\n",
    "    games.drop_duplicates(subset=['Name'], inplace=True)\n",
    "    titles = games['Name']\n",
    "    return titles\n",
    "\n",
    "topics = get_games()\n"
   ]
  }
 ],
 "metadata": {
  "kernelspec": {
   "display_name": "Python 3.9.7 64-bit",
   "language": "python",
   "name": "python3"
  },
  "language_info": {
   "codemirror_mode": {
    "name": "ipython",
    "version": 3
   },
   "file_extension": ".py",
   "mimetype": "text/x-python",
   "name": "python",
   "nbconvert_exporter": "python",
   "pygments_lexer": "ipython3",
   "version": "3.9.7"
  },
  "orig_nbformat": 4,
  "vscode": {
   "interpreter": {
    "hash": "b26757ebb5997c551b97093c74f25d44a4ba2b2fa04ffbd32b5a92b3386b632f"
   }
  }
 },
 "nbformat": 4,
 "nbformat_minor": 2
}
